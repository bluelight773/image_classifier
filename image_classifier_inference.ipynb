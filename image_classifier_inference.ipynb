{
 "cells": [
  {
   "cell_type": "code",
   "execution_count": 1,
   "metadata": {},
   "outputs": [
    {
     "data": {
      "application/vnd.jupyter.widget-view+json": {
       "model_id": "a9f14952cdfb48239d4debe7d80de6e2",
       "version_major": 2,
       "version_minor": 0
      },
      "text/plain": [
       "VBox(children=(Label(value='Select an image'), FileUpload(value={}, description='Upload'), Button(description=…"
      ]
     },
     "metadata": {},
     "output_type": "display_data"
    }
   ],
   "source": [
    "# Enabled Voila\n",
    "#!jupyter serverextension enable voila —sys-prefix\n",
    "\n",
    "from fastai.vision.all import *\n",
    "from fastai.vision.widgets import *\n",
    "\n",
    "\n",
    "# Due to an issue with fastai's export, we need to provide the get_y function, get_y_label\n",
    "# when loading the model to ensure we can use it.\n",
    "def get_y_labels(file):\n",
    "    return [parent_label(file)]\n",
    "\n",
    "# Load model\n",
    "model_path = Path(\"models\")/\"male_vs_female_face_classifier.pkl\"\n",
    "learn_inf = load_learner(model_path)\n",
    "\n",
    "# Set up UI widgets: Upload button, Label button, Output area to show image, Label to show prediction\n",
    "btn_upload = widgets.FileUpload()\n",
    "btn_label = widgets.Button(description=\"Label\")\n",
    "out_img = widgets.Output()\n",
    "lbl_prediction = widgets.Label()\n",
    "\n",
    "# \"Label\" button callback\n",
    "def on_click_label(change):\n",
    "    img = PILImage.create(btn_upload.data[-1])\n",
    "    out_img.clear_output()\n",
    "    with out_img: display(img.to_thumb(128,128))\n",
    "    labels, pred_labels_mask, pred_probs = learn_inf.predict(img)\n",
    "    predicted_labels_str = \", \".join(labels)\n",
    "    predicted_labels_probs_str = \", \".join(f'{round(prob*100)}%' for prob in pred_probs[pred_labels_mask].tolist())\n",
    "    lbl_prediction.value = f'Prediction: {predicted_labels_str}\\tProbabilities: {predicted_labels_probs_str}'\n",
    "\n",
    "btn_label.on_click(on_click_label)\n",
    "\n",
    "VBox([widgets.Label('Select an image'), \n",
    "      btn_upload, btn_label, out_img, lbl_prediction])"
   ]
  }
 ],
 "metadata": {
  "kernelspec": {
   "display_name": "Python 3",
   "language": "python",
   "name": "python3"
  },
  "language_info": {
   "codemirror_mode": {
    "name": "ipython",
    "version": 3
   },
   "file_extension": ".py",
   "mimetype": "text/x-python",
   "name": "python",
   "nbconvert_exporter": "python",
   "pygments_lexer": "ipython3",
   "version": "3.6.9"
  }
 },
 "nbformat": 4,
 "nbformat_minor": 4
}
